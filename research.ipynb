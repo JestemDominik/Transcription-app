{
 "cells": [
  {
   "cell_type": "markdown",
   "id": "2856d7e1",
   "metadata": {},
   "source": [
    "### Zamiana artykułów na odpowiedni format dla json"
   ]
  },
  {
   "cell_type": "code",
   "execution_count": null,
   "id": "1a765b73",
   "metadata": {},
   "outputs": [
    {
     "name": "stdout",
     "output_type": "stream",
     "text": [
      "\\n\n"
     ]
    }
   ],
   "source": [
    "text = \"\"\"TUTAJ WPISUJE SIĘ ARTYKUŁ\"\"\"\n",
    "text = text.replace(\"\\n\", \"\\\\n\")\n",
    "print(text)"
   ]
  }
 ],
 "metadata": {
  "kernelspec": {
   "display_name": "od_zera_do_ai",
   "language": "python",
   "name": "python3"
  },
  "language_info": {
   "codemirror_mode": {
    "name": "ipython",
    "version": 3
   },
   "file_extension": ".py",
   "mimetype": "text/x-python",
   "name": "python",
   "nbconvert_exporter": "python",
   "pygments_lexer": "ipython3",
   "version": "3.11.11"
  }
 },
 "nbformat": 4,
 "nbformat_minor": 5
}
