{
 "cells": [
  {
   "cell_type": "markdown",
   "id": "6fe8d187",
   "metadata": {},
   "source": [
    "📝 Opis aplikacji\n",
    "Nazwa robocza: Audio2Doc – Transkrypcja MP3 z możliwością edycji\n",
    "\n",
    "Opis:\n",
    "Aplikacja webowa stworzona w Streamlit, która umożliwia użytkownikowi wrzucenie pliku dźwiękowego (MP3), dokonanie transkrypcji przy użyciu Whisper API od OpenAI, edycję wynikowego tekstu w przeglądarce, a następnie pobranie go jako pliku .docx."
   ]
  },
  {
   "cell_type": "markdown",
   "id": "d5a99385",
   "metadata": {},
   "source": [
    "⚙️ Specyfikacja funkcjonalna\n",
    "1. Upload pliku MP3\n",
    "   - Obsługa tylko .mp3 (opcjonalnie później .wav)\n",
    "\n",
    "   - Maks. rozmiar: np. 25 MB (limit można zwiększyć)\n",
    "\n",
    "2. Transkrypcja (Whisper API)\n",
    "   - Transkrypcja wykonywana przez openai.Audio.transcribe()\n",
    "\n",
    "   - Format wejściowy: audio .mp3\n",
    "\n",
    "   - Format wyjściowy: czysty tekst (.txt)\n",
    "\n",
    "3. Podgląd i edycja tekstu\n",
    "   - Transkrypcja wyświetlona w polu st.text_area\n",
    "\n",
    "   - Użytkownik może edytować tekst (np. poprawić błędy)\n",
    "\n",
    "4. Tworzenie artykułu na bazie artykułów konkurencji\n",
    "   - aplikacja wyciąga embeddingsy z naszej rozmowy\n",
    "\n",
    "   - aplikacja porównuje z zapisanymi notatkami oraz znajduje najlepsze 2 dopasowania\n",
    "\n",
    "   - na podstawie rozmowy i dwóch artykułów \n",
    "\n",
    "5. Eksport do DOCX\n",
    "   - Po edycji – kliknięcie przycisku Pobierz jako DOCX\n",
    "\n",
    "   - Plik generowany za pomocą python-docx\n",
    "\n",
    "   - Nazwa pliku: transkrypcja_<data>.docx"
   ]
  },
  {
   "cell_type": "markdown",
   "id": "060d1b90",
   "metadata": {},
   "source": [
    "📦 Zależności\n",
    "- streamlit\n",
    "- openai\n",
    "- python-docx\n",
    "- python-dotenv\n",
    "- qdrant-client"
   ]
  },
  {
   "cell_type": "markdown",
   "id": "601b7522",
   "metadata": {},
   "source": [
    "💡 Wersje\n",
    "V1 - Użytkownik wgrywa plik, który jest edytowany i po czym pobierany\n",
    "V2 - Użytkownik Wrzuca plik do folderu na dysku i otrzymuje plik z transkrypcją w innym foderze"
   ]
  }
 ],
 "metadata": {
  "language_info": {
   "name": "python"
  }
 },
 "nbformat": 4,
 "nbformat_minor": 5
}
